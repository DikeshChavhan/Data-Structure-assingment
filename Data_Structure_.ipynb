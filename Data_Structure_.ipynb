{
  "nbformat": 4,
  "nbformat_minor": 0,
  "metadata": {
    "colab": {
      "provenance": []
    },
    "kernelspec": {
      "name": "python3",
      "display_name": "Python 3"
    },
    "language_info": {
      "name": "python"
    }
  },
  "cells": [
    {
      "cell_type": "markdown",
      "source": [
        "Data Types and Structures **Questions**\n",
        "\n",
        "1.What are data structures, and why are they important\n",
        "ANS: data structures are like List, Tuples, Set, String, Dictionaries.\n",
        "They are important to organizing and storing data in a computer so that it can be accessed and used efficietly. they define how data is related and how it can be manipulated.\n",
        "\n",
        "2.Explain the difference between mutable and immutable data types with examples?\n",
        "ANS: mutable: Mutable data type can be changed after they are created. this means we can modify their content without creating a new object.\n",
        "immutable:Immutable data type cannot be changed after they are created. any operation that appears to modify an immutable object actually creates a new object with the modified value.\n",
        "\n",
        "3.What are the main differences between lists and tuples in Python?\n",
        "ANS: List: Lists are mutable,we can add, remove, or modify elemets within a list.list is defined using square brackets[].list have many built in methods for manipulation sach as append(), insert(), remove(), sort(),etc....\n",
        "Tuple: Tuple are immutable,once a tuple is defined you canot add, remove, or modify. Tuple is defined using parentheses ().\n",
        "\n",
        "4.Describe how dictionaries store data?\n",
        "ANS:Dictionaries in Python store data using a key-value pair structure.\n",
        "\n",
        "5.Why might you use a set instead of a list in Python?\n",
        "ANS:sets are powerful tool when you need to work with unique elements,perform fast membership testing, or utilize mathematical set operations.\n",
        "\n",
        "6.What is a string in Python, and how is it different from a list?\n",
        "ANS: string is a sequence of characters, such as letters, numbers, symbols, and whitespace. It is used to represent textual data. Strings are immutable, meaning they cannot be changed after creation.\n",
        "string is immutable, lists is mutable .\n",
        "string represents textual data , lists can store elements of any data type.\n",
        "string defined using single quotes('   '), double quotes(\"    \"), or triple quotes('''   '''), lists defined using square brackets[].\n",
        "string used for representing and manipulating textual data, such as names, sentences, or code.\n",
        "lists used for storing collections of items that may need to modified, such as a list of numbers, taskes, or objects.\n",
        "\n",
        "7.How do tuples ensure data integrity in Python?\n",
        "ANS: tuples ensure data integrity by being immutable. This immutability prevents accidental modifications, protects sensitive data, guarantees data consistency, and enables their use as dictionary keys.\n",
        "\n",
        "8.What is a hash table, and how does it relate to dictionaries in Python?\n",
        "ANS:A hash table is a data structure that stores data in an associative manner, using key-value pairs.\n",
        "\n",
        "9.Can lists contain different data types in Python?\n",
        "ANS: Yes\n",
        "\n",
        "10.Explain why strings are immutable in Python?\n",
        "ANS:strings are immutable in Python to enhance performance, security, thread safety, and predictability.\n",
        "\n",
        "11.What advantages do dictionaries offer over lists for certain tasks?\n",
        "ANS:Dictionaries use a hash table implementation, which allows for very fast lookups and retrieval of values based on their keys.Dictionaries provide a way to organize data using meaningful keys, making your code more readable and maintainable.Dictionaries can store values of any data type, including other dictionaries, offering flexibility in representing complex data structures.\n",
        "\n",
        "12.Describe a scenario where using a tuple would be preferable over a list?\n",
        "ANS: using a tuple is preferable over a list when you need to represent immutable data, ensure data integrity, or convey the intention that data should not be modified.\n",
        "\n",
        "13.How do sets handle duplicate values in Python?\n",
        "ANS:When you add an element to a set, Python internally uses a hash function to determine the element's position in the set's underlying data structure. If an element with the same hash value already exists in the set, Python checks if the elements are equal. If they are equal, the new element is considered a duplicate and is not added to the set.\n",
        "\n",
        "14. How does the “in” keyword work differently for lists and dictionaries\n"
      ],
      "metadata": {
        "id": "Y0h2H2aZK4s_"
      }
    },
    {
      "cell_type": "markdown",
      "source": [
        "**Practical Questions**"
      ],
      "metadata": {
        "id": "UbU5BHOlfUiR"
      }
    },
    {
      "cell_type": "code",
      "source": [
        "#Write a code to create a string with your name and print it.\n",
        "\n",
        "my_name = \"Dikesh Chavhan\"\n",
        "print(my_name)\n"
      ],
      "metadata": {
        "colab": {
          "base_uri": "https://localhost:8080/"
        },
        "id": "tGGOPAkcfiVk",
        "outputId": "10d194e8-b569-45f8-e157-f4f0b646281c"
      },
      "execution_count": 1,
      "outputs": [
        {
          "output_type": "stream",
          "name": "stdout",
          "text": [
            "Dikesh Chavhan\n"
          ]
        }
      ]
    },
    {
      "cell_type": "code",
      "source": [
        " #Write a code to find the length of the string \"Hello World\"\n",
        " str = \"Hello World\"\n",
        " print(len(str))"
      ],
      "metadata": {
        "colab": {
          "base_uri": "https://localhost:8080/"
        },
        "id": "Dr3od0PmgGQY",
        "outputId": "5b117c1c-ccec-47ac-8e4b-ea1ba8fbea6a"
      },
      "execution_count": 2,
      "outputs": [
        {
          "output_type": "stream",
          "name": "stdout",
          "text": [
            "11\n"
          ]
        }
      ]
    },
    {
      "cell_type": "code",
      "source": [
        "#Write a code to slice the first 3 characters from the string \"Python Programming\n",
        "str = \"Dikesh Chavhan\"\n",
        "sliced_str = str[0:3]\n",
        "print(sliced_str)"
      ],
      "metadata": {
        "colab": {
          "base_uri": "https://localhost:8080/"
        },
        "id": "Ax5Ch18cgXFD",
        "outputId": "4ea9255a-c243-4cd3-92ea-63c2cb992e30"
      },
      "execution_count": 3,
      "outputs": [
        {
          "output_type": "stream",
          "name": "stdout",
          "text": [
            "Dik\n"
          ]
        }
      ]
    },
    {
      "cell_type": "code",
      "source": [
        "#Write a code to convert the string \"hello\" to uppercase\n",
        "str = \"hello\"\n",
        "upper_str = str.upper()\n",
        "print(upper_str)"
      ],
      "metadata": {
        "colab": {
          "base_uri": "https://localhost:8080/"
        },
        "id": "h7_KtxCcg4j8",
        "outputId": "af6788ab-491b-4990-c75f-d4cc93e1ee3e"
      },
      "execution_count": 4,
      "outputs": [
        {
          "output_type": "stream",
          "name": "stdout",
          "text": [
            "HELLO\n"
          ]
        }
      ]
    },
    {
      "cell_type": "code",
      "source": [
        "# Write a code to replace the word \"apple\" with \"orange\" in the string \"I like apple\"\n",
        "str = \"I like apple\"\n",
        "new_str = str.replace(\"apple\",\"orange\")\n",
        "print(new_str)"
      ],
      "metadata": {
        "colab": {
          "base_uri": "https://localhost:8080/"
        },
        "id": "lB1DljQWhJlq",
        "outputId": "17729612-63ce-4f1c-b65d-ae1d3c0969ad"
      },
      "execution_count": 5,
      "outputs": [
        {
          "output_type": "stream",
          "name": "stdout",
          "text": [
            "I like orange\n"
          ]
        }
      ]
    },
    {
      "cell_type": "code",
      "source": [
        "# Write a code to create a list with numbers 1 to 5 and print it\n",
        "list = [1,2,3,4,5]\n",
        "print(list)"
      ],
      "metadata": {
        "colab": {
          "base_uri": "https://localhost:8080/"
        },
        "id": "p-OfYjGXhc7x",
        "outputId": "253b64ad-a2e7-427d-a639-bcf855931646"
      },
      "execution_count": 6,
      "outputs": [
        {
          "output_type": "stream",
          "name": "stdout",
          "text": [
            "[1, 2, 3, 4, 5]\n"
          ]
        }
      ]
    },
    {
      "cell_type": "code",
      "source": [
        "# Write a code to append the number 10 to the list [1, 2, 3, 4]\n",
        "list = [1,2,3,4,5]\n",
        "list.append(10)\n",
        "print(list)\n"
      ],
      "metadata": {
        "colab": {
          "base_uri": "https://localhost:8080/"
        },
        "id": "0ZbjSp0zhj0e",
        "outputId": "b277c7a7-0bc4-47f6-891d-dd3794a48fbd"
      },
      "execution_count": 7,
      "outputs": [
        {
          "output_type": "stream",
          "name": "stdout",
          "text": [
            "[1, 2, 3, 4, 5, 10]\n"
          ]
        }
      ]
    },
    {
      "cell_type": "code",
      "source": [
        "# Write a code to remove the number 3 from the list [1, 2, 3, 4, 5]\n",
        "list = [1,2,3,4,5]\n",
        "list.remove(3)\n",
        "print(list)"
      ],
      "metadata": {
        "colab": {
          "base_uri": "https://localhost:8080/"
        },
        "id": "5ksIqD1BhxAU",
        "outputId": "573e4c59-a134-4293-868d-326070d192f6"
      },
      "execution_count": 8,
      "outputs": [
        {
          "output_type": "stream",
          "name": "stdout",
          "text": [
            "[1, 2, 4, 5]\n"
          ]
        }
      ]
    },
    {
      "cell_type": "code",
      "source": [
        "#Write a code to access the second element in the list ['a', 'b', 'c', 'd']\n",
        "list = ['a', 'b', 'c', 'd']\n",
        "print(list[1])\n"
      ],
      "metadata": {
        "colab": {
          "base_uri": "https://localhost:8080/"
        },
        "id": "od14tHRUiBJK",
        "outputId": "3d44b84d-6b71-4ffc-a922-9b028cbdfd65"
      },
      "execution_count": 9,
      "outputs": [
        {
          "output_type": "stream",
          "name": "stdout",
          "text": [
            "b\n"
          ]
        }
      ]
    },
    {
      "cell_type": "code",
      "source": [
        "# Write a code to reverse the list [10, 20, 30, 40, 50]\n",
        "list = [10, 20, 30, 40, 50]\n",
        "list.reverse()\n",
        "print(list)"
      ],
      "metadata": {
        "colab": {
          "base_uri": "https://localhost:8080/"
        },
        "id": "zv_Coo1IiOqQ",
        "outputId": "cc1ec298-2cb6-4a01-abd9-ced6c2a5503a"
      },
      "execution_count": 10,
      "outputs": [
        {
          "output_type": "stream",
          "name": "stdout",
          "text": [
            "[50, 40, 30, 20, 10]\n"
          ]
        }
      ]
    },
    {
      "cell_type": "code",
      "source": [
        "#Write a code to create a tuple with the elements 100, 200, 300 and print it.\n",
        "tuple = (100, 200, 300)\n",
        "print(tuple)"
      ],
      "metadata": {
        "colab": {
          "base_uri": "https://localhost:8080/"
        },
        "id": "hG9Ycjicic8u",
        "outputId": "afcf1af3-cc98-4bf3-e8b0-3dac43b1fe68"
      },
      "execution_count": 11,
      "outputs": [
        {
          "output_type": "stream",
          "name": "stdout",
          "text": [
            "(100, 200, 300)\n"
          ]
        }
      ]
    },
    {
      "cell_type": "code",
      "source": [
        "# Write a code to access the second-to-last element of the tuple ('red', 'green', 'blue', 'yellow').\n",
        "tuple = ('red', 'green', 'blue', 'yellow')\n",
        "print(tuple[-2])"
      ],
      "metadata": {
        "colab": {
          "base_uri": "https://localhost:8080/"
        },
        "id": "27j9be2xiorc",
        "outputId": "421b7f81-f1a0-4e4b-a975-2832c57fde76"
      },
      "execution_count": 14,
      "outputs": [
        {
          "output_type": "stream",
          "name": "stdout",
          "text": [
            "blue\n"
          ]
        }
      ]
    },
    {
      "cell_type": "code",
      "source": [
        "# Write a code to find the minimum number in the tuple (10, 20, 5, 15).\n",
        "tuple = (10, 20, 5, 15)\n",
        "print(min(tuple))"
      ],
      "metadata": {
        "colab": {
          "base_uri": "https://localhost:8080/"
        },
        "id": "Zu5GRh7ci5iu",
        "outputId": "32a6bed4-43c1-40a1-97a6-8ebff2acf445"
      },
      "execution_count": 15,
      "outputs": [
        {
          "output_type": "stream",
          "name": "stdout",
          "text": [
            "5\n"
          ]
        }
      ]
    },
    {
      "cell_type": "code",
      "source": [
        "# Write a code to find the index of the element \"cat\" in the tuple ('dog', 'cat', 'rabbit').\n",
        "tuple = ('dog', 'cat', 'rabbit')\n",
        "print(tuple.index('cat'))"
      ],
      "metadata": {
        "colab": {
          "base_uri": "https://localhost:8080/"
        },
        "id": "nUwtqmdNjWnb",
        "outputId": "35a43c12-3d76-4f3f-8bc4-f1a70d97904f"
      },
      "execution_count": 18,
      "outputs": [
        {
          "output_type": "stream",
          "name": "stdout",
          "text": [
            "1\n"
          ]
        }
      ]
    },
    {
      "cell_type": "code",
      "source": [
        "# Write a code to create a tuple containing three different fruits and check if \"kiwi\" is in it\n",
        "fruits = ('apple', 'banana', 'orange')\n",
        "if \"kiwi\" in fruits:\n",
        "  print(\"kiwi is in the fruits\")\n",
        "else:\n",
        "  print(\"kiwi is not in the fruits\")\n"
      ],
      "metadata": {
        "colab": {
          "base_uri": "https://localhost:8080/"
        },
        "id": "7WLbZ0FDjxSm",
        "outputId": "98db8f55-40ac-4cd1-9162-c6d73381630c"
      },
      "execution_count": 20,
      "outputs": [
        {
          "output_type": "stream",
          "name": "stdout",
          "text": [
            "kiwi is not in the fruits\n"
          ]
        }
      ]
    },
    {
      "cell_type": "code",
      "source": [
        "#Write a code to create a set with the elements 'a', 'b', 'c' and print it.\n",
        "my_set = {\"a\", \"b\", \"c\"}\n",
        "print(my_set)"
      ],
      "metadata": {
        "colab": {
          "base_uri": "https://localhost:8080/"
        },
        "id": "eRHVChY3kcjg",
        "outputId": "04c29419-8a81-48f1-f12e-b8ad2bb361ce"
      },
      "execution_count": 22,
      "outputs": [
        {
          "output_type": "stream",
          "name": "stdout",
          "text": [
            "{'b', 'c', 'a'}\n"
          ]
        }
      ]
    },
    {
      "cell_type": "code",
      "source": [
        "#Write a code to clear all elements from the set {1, 2, 3, 4, 5}.\n",
        "my_set = {1, 2, 3, 4, 5}\n",
        "my_set.clear()\n",
        "print(my_set)"
      ],
      "metadata": {
        "colab": {
          "base_uri": "https://localhost:8080/"
        },
        "id": "ME7lRw79k5Ti",
        "outputId": "20fbee32-dc73-4607-efeb-cd0a84b9190e"
      },
      "execution_count": 23,
      "outputs": [
        {
          "output_type": "stream",
          "name": "stdout",
          "text": [
            "set()\n"
          ]
        }
      ]
    },
    {
      "cell_type": "code",
      "source": [
        "#Write a code to remove the element 4 from the set {1, 2, 3, 4}\n",
        "my_set = {1, 2, 3, 4}\n",
        "my_set.remove(4)\n",
        "print(my_set)"
      ],
      "metadata": {
        "colab": {
          "base_uri": "https://localhost:8080/"
        },
        "id": "LQ0pD-z2lUuK",
        "outputId": "c29dae0d-3372-45a2-9852-03dc70250c40"
      },
      "execution_count": 24,
      "outputs": [
        {
          "output_type": "stream",
          "name": "stdout",
          "text": [
            "{1, 2, 3}\n"
          ]
        }
      ]
    },
    {
      "cell_type": "code",
      "source": [
        "# Write a code to find the union of two sets {1, 2, 3} and {3, 4, 5}.\n",
        "set1 = {1, 2, 3}\n",
        "set2 = {3, 4, 5}\n",
        "union_set = set1.union(set2)\n",
        "print(union_set)"
      ],
      "metadata": {
        "colab": {
          "base_uri": "https://localhost:8080/"
        },
        "id": "J1Or7wpRlZN-",
        "outputId": "74561df7-402b-420b-afab-264d07ee9082"
      },
      "execution_count": 26,
      "outputs": [
        {
          "output_type": "stream",
          "name": "stdout",
          "text": [
            "{1, 2, 3, 4, 5}\n"
          ]
        }
      ]
    },
    {
      "cell_type": "code",
      "source": [
        "# Write a code to find the intersection of two sets {1, 2, 3} and {2, 3, 4}\n",
        "set1 = {1, 2, 3}\n",
        "set2 = {2, 3, 4}\n",
        "intersection_set = set1.intersection(set2)\n",
        "print(intersection_set)"
      ],
      "metadata": {
        "colab": {
          "base_uri": "https://localhost:8080/"
        },
        "id": "Ik1KZDOxlzTr",
        "outputId": "d2c2e0d9-1e45-4958-dcc4-26f948e4ef17"
      },
      "execution_count": 27,
      "outputs": [
        {
          "output_type": "stream",
          "name": "stdout",
          "text": [
            "{2, 3}\n"
          ]
        }
      ]
    },
    {
      "cell_type": "code",
      "source": [
        "#Write a code to create a dictionary with the keys \"name\", \"age\", and \"city\", and print it.\n",
        "my_dict = {\"name\": \"Dikesh\", \"age\": 20, \"city\": \"Kathmandu\"}\n",
        "print(my_dict)\n"
      ],
      "metadata": {
        "colab": {
          "base_uri": "https://localhost:8080/"
        },
        "id": "BLr3MDZOmIVr",
        "outputId": "f542c8d9-ee0e-4855-e843-f92223e341fd"
      },
      "execution_count": 28,
      "outputs": [
        {
          "output_type": "stream",
          "name": "stdout",
          "text": [
            "{'name': 'Dikesh', 'age': 20, 'city': 'Kathmandu'}\n"
          ]
        }
      ]
    },
    {
      "cell_type": "code",
      "source": [
        "#Write a code to add a new key-value pair \"country\": \"USA\" to the dictionary {'name': 'John', 'age': 25}\n",
        "my_dict = {'name': 'John', 'age': 25}\n",
        "my_dict[\"country\"] = \"USA\"\n",
        "print(my_dict)"
      ],
      "metadata": {
        "colab": {
          "base_uri": "https://localhost:8080/"
        },
        "id": "nEnsHtp9mOvh",
        "outputId": "d65898e8-ca42-47ce-db9d-3cfcf9cf3f85"
      },
      "execution_count": 29,
      "outputs": [
        {
          "output_type": "stream",
          "name": "stdout",
          "text": [
            "{'name': 'John', 'age': 25, 'country': 'USA'}\n"
          ]
        }
      ]
    },
    {
      "cell_type": "code",
      "source": [
        "# Write a code to access the value associated with the key \"name\" in the dictionary {'name': 'Alice', 'age': 30}\n",
        "my_dict = {'name': 'Alice', 'age': 30}\n",
        "print(my_dict[\"name\"])\n",
        "#"
      ],
      "metadata": {
        "colab": {
          "base_uri": "https://localhost:8080/"
        },
        "id": "BcKuwerfmbjW",
        "outputId": "4f026651-e6d2-405d-8b1f-3d93d66b83f1"
      },
      "execution_count": 30,
      "outputs": [
        {
          "output_type": "stream",
          "name": "stdout",
          "text": [
            "Alice\n"
          ]
        }
      ]
    },
    {
      "cell_type": "code",
      "source": [
        "from os import remove\n",
        "# Write a code to remove the key \"age\" from the dictionary {'name': 'Bob', 'age': 22, 'city': 'New York'}.\n",
        "my_dict = {'name': 'Bob', 'age': 22, 'city': 'New York'}\n",
        "del my_dict[\"age\"]\n",
        "print(my_dict)"
      ],
      "metadata": {
        "colab": {
          "base_uri": "https://localhost:8080/"
        },
        "id": "uav0ODREmpEu",
        "outputId": "96f53e58-d2ce-4264-e1e0-d82d22134228"
      },
      "execution_count": 32,
      "outputs": [
        {
          "output_type": "stream",
          "name": "stdout",
          "text": [
            "{'name': 'Bob', 'city': 'New York'}\n"
          ]
        }
      ]
    },
    {
      "cell_type": "code",
      "source": [
        "# Write a code to check if the key \"city\" exists in the dictionary {'name': 'Alice', 'city': 'Paris'}\n",
        "my_dict = {'name': 'Alice', 'city': 'Paris'}\n",
        "if \"city\" in my_dict:\n",
        "  print(\"city is in the dictionary\")\n",
        "else:\n",
        "  print(\"city is not in the dictionary\")\n"
      ],
      "metadata": {
        "colab": {
          "base_uri": "https://localhost:8080/"
        },
        "id": "vdU9OtXNmz6h",
        "outputId": "6c3f288f-1419-41e5-bdb3-73255baa1614"
      },
      "execution_count": 33,
      "outputs": [
        {
          "output_type": "stream",
          "name": "stdout",
          "text": [
            "city is in the dictionary\n"
          ]
        }
      ]
    },
    {
      "cell_type": "code",
      "source": [
        "#Write a code to create a list, a tuple, and a dictionary, and print them all\n",
        "list = [1,2,3,4,5]\n",
        "tuple = (1,2,3,4,5)\n",
        "dictionary = {\"name\": \"Dikesh\", \"age\": 20, \"city\": \"Kathmandu\"}\n",
        "print(list,tuple,dictionary)"
      ],
      "metadata": {
        "colab": {
          "base_uri": "https://localhost:8080/"
        },
        "id": "CznzANSBm-2X",
        "outputId": "52fd2207-01c8-4ca3-c019-a397442d166e"
      },
      "execution_count": 38,
      "outputs": [
        {
          "output_type": "stream",
          "name": "stdout",
          "text": [
            "[1, 2, 3, 4, 5] (1, 2, 3, 4, 5) {'name': 'Dikesh', 'age': 20, 'city': 'Kathmandu'}\n"
          ]
        }
      ]
    },
    {
      "cell_type": "code",
      "source": [
        "# Write a code to create a list of 5 random numbers between 1 and 100, sort it in ascending order, and print the result.(replaced)\n",
        "import random\n",
        "random_list = []\n",
        "for i in range (5):\n",
        "  random_list.append(random.randint(1,100))\n",
        "random_list.sort()\n",
        "print(random_list)\n"
      ],
      "metadata": {
        "colab": {
          "base_uri": "https://localhost:8080/"
        },
        "id": "OmaC0KDinFEe",
        "outputId": "91fe0aac-499b-4ade-9972-3dd3bc1d4973"
      },
      "execution_count": 39,
      "outputs": [
        {
          "output_type": "stream",
          "name": "stdout",
          "text": [
            "[3, 22, 25, 47, 72]\n"
          ]
        }
      ]
    },
    {
      "cell_type": "code",
      "source": [
        "#Write a code to create a list with strings and print the element at the third index\n",
        "my_list = [\"apple\",\"banana\",\"orange\",\"grapes\",\"mango\"]\n",
        "print(my_list[3])"
      ],
      "metadata": {
        "colab": {
          "base_uri": "https://localhost:8080/"
        },
        "id": "-dFS_6_ZoIuU",
        "outputId": "18c8eff1-b079-4641-cff9-ff66ab0abb4d"
      },
      "execution_count": 40,
      "outputs": [
        {
          "output_type": "stream",
          "name": "stdout",
          "text": [
            "grapes\n"
          ]
        }
      ]
    },
    {
      "cell_type": "code",
      "source": [
        "# Write a code to combine two dictionaries into one and print the result.\n",
        "dict1 = {\"name\": \"Dikesh\", \"age\": 20, \"city\": \"Kathmandu\"}\n",
        "dict2 = {\"name\": \"dk\", \"age\": 22, \"city\": \"kinwat\"}\n",
        "combine_dict = dict1.copy()\n",
        "combine_dict.update(dict2)\n",
        "print(combine_dict)"
      ],
      "metadata": {
        "colab": {
          "base_uri": "https://localhost:8080/"
        },
        "id": "VVmAt-DUocyp",
        "outputId": "67042fe7-ea9c-425f-a90d-667f68394a79"
      },
      "execution_count": 47,
      "outputs": [
        {
          "output_type": "stream",
          "name": "stdout",
          "text": [
            "{'name': 'dk', 'age': 22, 'city': 'kinwat'}\n"
          ]
        }
      ]
    },
    {
      "cell_type": "code",
      "source": [
        "#Write a code to convert a list of strings into a set\n",
        "string_list = [\"apple\", \"banana\", \"orange\", \"apple\"]  # Example list of strings\n",
        "string_set = set(string_list)  # Convert the list to a set\n",
        "print(string_set)"
      ],
      "metadata": {
        "colab": {
          "base_uri": "https://localhost:8080/",
          "height": 193
        },
        "id": "tiKBLUMOpLon",
        "outputId": "0dbdb3a9-2f04-43b8-e87b-a7de313c749e"
      },
      "execution_count": 51,
      "outputs": [
        {
          "output_type": "error",
          "ename": "TypeError",
          "evalue": "'set' object is not callable",
          "traceback": [
            "\u001b[0;31m---------------------------------------------------------------------------\u001b[0m",
            "\u001b[0;31mTypeError\u001b[0m                                 Traceback (most recent call last)",
            "\u001b[0;32m<ipython-input-51-4850815ca810>\u001b[0m in \u001b[0;36m<cell line: 0>\u001b[0;34m()\u001b[0m\n\u001b[1;32m      1\u001b[0m \u001b[0;31m#Write a code to convert a list of strings into a set\u001b[0m\u001b[0;34m\u001b[0m\u001b[0;34m\u001b[0m\u001b[0m\n\u001b[1;32m      2\u001b[0m \u001b[0mstring_list\u001b[0m \u001b[0;34m=\u001b[0m \u001b[0;34m[\u001b[0m\u001b[0;34m\"apple\"\u001b[0m\u001b[0;34m,\u001b[0m \u001b[0;34m\"banana\"\u001b[0m\u001b[0;34m,\u001b[0m \u001b[0;34m\"orange\"\u001b[0m\u001b[0;34m,\u001b[0m \u001b[0;34m\"apple\"\u001b[0m\u001b[0;34m]\u001b[0m  \u001b[0;31m# Example list of strings\u001b[0m\u001b[0;34m\u001b[0m\u001b[0;34m\u001b[0m\u001b[0m\n\u001b[0;32m----> 3\u001b[0;31m \u001b[0mstring_set\u001b[0m \u001b[0;34m=\u001b[0m \u001b[0mset\u001b[0m\u001b[0;34m(\u001b[0m\u001b[0mstring_list\u001b[0m\u001b[0;34m)\u001b[0m  \u001b[0;31m# Convert the list to a set\u001b[0m\u001b[0;34m\u001b[0m\u001b[0;34m\u001b[0m\u001b[0m\n\u001b[0m\u001b[1;32m      4\u001b[0m \u001b[0mprint\u001b[0m\u001b[0;34m(\u001b[0m\u001b[0mstring_set\u001b[0m\u001b[0;34m)\u001b[0m\u001b[0;34m\u001b[0m\u001b[0;34m\u001b[0m\u001b[0m\n",
            "\u001b[0;31mTypeError\u001b[0m: 'set' object is not callable"
          ]
        }
      ]
    },
    {
      "cell_type": "code",
      "source": [],
      "metadata": {
        "id": "jVeq0X9vqklc"
      },
      "execution_count": null,
      "outputs": []
    }
  ]
}